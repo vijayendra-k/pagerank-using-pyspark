{
  "nbformat": 4,
  "nbformat_minor": 0,
  "metadata": {
    "colab": {
      "provenance": []
    },
    "kernelspec": {
      "name": "python3",
      "display_name": "Python 3"
    },
    "language_info": {
      "name": "python"
    }
  },
  "cells": [
    {
      "cell_type": "code",
      "execution_count": null,
      "metadata": {
        "id": "0JWPGl9jd-Od",
        "colab": {
          "base_uri": "https://localhost:8080/"
        },
        "outputId": "e72c13e6-4ca3-4417-f1a1-3acd6d80e9d7"
      },
      "outputs": [
        {
          "output_type": "stream",
          "name": "stdout",
          "text": [
            "Requirement already satisfied: pyspark in /usr/local/lib/python3.10/dist-packages (3.4.1)\n",
            "Requirement already satisfied: py4j==0.10.9.7 in /usr/local/lib/python3.10/dist-packages (from pyspark) (0.10.9.7)\n"
          ]
        }
      ],
      "source": [
        "!apt-get install openjdk-8-jdk-headless -qq > /dev/null\n",
        "!wget -q https://archive.apache.org/dist/spark/spark-3.2.0/spark-3.2.0-bin-hadoop3.2.tgz\n",
        "!tar xf /content/spark-3.2.0-bin-hadoop3.2.tgz\n",
        "!pip install -q findspark\n",
        "!pip install pyspark\n",
        "import os\n",
        "os.environ[\"JAVA_HOME\"] = \"/usr/lib/jvm/java-8-openjdk-amd64\"\n",
        "os.environ[\"SPARK_HOME\"] = \"/content/spark-3.2.0-bin-hadoop3.2\"\n"
      ]
    },
    {
      "cell_type": "code",
      "source": [
        "import findspark\n",
        "findspark.init()\n",
        "from pyspark import SparkContext\n",
        "from google.colab import files\n",
        "files.upload()"
      ],
      "metadata": {
        "colab": {
          "base_uri": "https://localhost:8080/",
          "height": 90
        },
        "id": "Vyp6OSr5sST9",
        "outputId": "b1bd50f9-a2e3-48f5-aafd-519cbafc224d"
      },
      "execution_count": null,
      "outputs": [
        {
          "output_type": "display_data",
          "data": {
            "text/plain": [
              "<IPython.core.display.HTML object>"
            ],
            "text/html": [
              "\n",
              "     <input type=\"file\" id=\"files-c1491efe-198d-4165-a2cb-8b0b8ae572e0\" name=\"files[]\" multiple disabled\n",
              "        style=\"border:none\" />\n",
              "     <output id=\"result-c1491efe-198d-4165-a2cb-8b0b8ae572e0\">\n",
              "      Upload widget is only available when the cell has been executed in the\n",
              "      current browser session. Please rerun this cell to enable.\n",
              "      </output>\n",
              "      <script>// Copyright 2017 Google LLC\n",
              "//\n",
              "// Licensed under the Apache License, Version 2.0 (the \"License\");\n",
              "// you may not use this file except in compliance with the License.\n",
              "// You may obtain a copy of the License at\n",
              "//\n",
              "//      http://www.apache.org/licenses/LICENSE-2.0\n",
              "//\n",
              "// Unless required by applicable law or agreed to in writing, software\n",
              "// distributed under the License is distributed on an \"AS IS\" BASIS,\n",
              "// WITHOUT WARRANTIES OR CONDITIONS OF ANY KIND, either express or implied.\n",
              "// See the License for the specific language governing permissions and\n",
              "// limitations under the License.\n",
              "\n",
              "/**\n",
              " * @fileoverview Helpers for google.colab Python module.\n",
              " */\n",
              "(function(scope) {\n",
              "function span(text, styleAttributes = {}) {\n",
              "  const element = document.createElement('span');\n",
              "  element.textContent = text;\n",
              "  for (const key of Object.keys(styleAttributes)) {\n",
              "    element.style[key] = styleAttributes[key];\n",
              "  }\n",
              "  return element;\n",
              "}\n",
              "\n",
              "// Max number of bytes which will be uploaded at a time.\n",
              "const MAX_PAYLOAD_SIZE = 100 * 1024;\n",
              "\n",
              "function _uploadFiles(inputId, outputId) {\n",
              "  const steps = uploadFilesStep(inputId, outputId);\n",
              "  const outputElement = document.getElementById(outputId);\n",
              "  // Cache steps on the outputElement to make it available for the next call\n",
              "  // to uploadFilesContinue from Python.\n",
              "  outputElement.steps = steps;\n",
              "\n",
              "  return _uploadFilesContinue(outputId);\n",
              "}\n",
              "\n",
              "// This is roughly an async generator (not supported in the browser yet),\n",
              "// where there are multiple asynchronous steps and the Python side is going\n",
              "// to poll for completion of each step.\n",
              "// This uses a Promise to block the python side on completion of each step,\n",
              "// then passes the result of the previous step as the input to the next step.\n",
              "function _uploadFilesContinue(outputId) {\n",
              "  const outputElement = document.getElementById(outputId);\n",
              "  const steps = outputElement.steps;\n",
              "\n",
              "  const next = steps.next(outputElement.lastPromiseValue);\n",
              "  return Promise.resolve(next.value.promise).then((value) => {\n",
              "    // Cache the last promise value to make it available to the next\n",
              "    // step of the generator.\n",
              "    outputElement.lastPromiseValue = value;\n",
              "    return next.value.response;\n",
              "  });\n",
              "}\n",
              "\n",
              "/**\n",
              " * Generator function which is called between each async step of the upload\n",
              " * process.\n",
              " * @param {string} inputId Element ID of the input file picker element.\n",
              " * @param {string} outputId Element ID of the output display.\n",
              " * @return {!Iterable<!Object>} Iterable of next steps.\n",
              " */\n",
              "function* uploadFilesStep(inputId, outputId) {\n",
              "  const inputElement = document.getElementById(inputId);\n",
              "  inputElement.disabled = false;\n",
              "\n",
              "  const outputElement = document.getElementById(outputId);\n",
              "  outputElement.innerHTML = '';\n",
              "\n",
              "  const pickedPromise = new Promise((resolve) => {\n",
              "    inputElement.addEventListener('change', (e) => {\n",
              "      resolve(e.target.files);\n",
              "    });\n",
              "  });\n",
              "\n",
              "  const cancel = document.createElement('button');\n",
              "  inputElement.parentElement.appendChild(cancel);\n",
              "  cancel.textContent = 'Cancel upload';\n",
              "  const cancelPromise = new Promise((resolve) => {\n",
              "    cancel.onclick = () => {\n",
              "      resolve(null);\n",
              "    };\n",
              "  });\n",
              "\n",
              "  // Wait for the user to pick the files.\n",
              "  const files = yield {\n",
              "    promise: Promise.race([pickedPromise, cancelPromise]),\n",
              "    response: {\n",
              "      action: 'starting',\n",
              "    }\n",
              "  };\n",
              "\n",
              "  cancel.remove();\n",
              "\n",
              "  // Disable the input element since further picks are not allowed.\n",
              "  inputElement.disabled = true;\n",
              "\n",
              "  if (!files) {\n",
              "    return {\n",
              "      response: {\n",
              "        action: 'complete',\n",
              "      }\n",
              "    };\n",
              "  }\n",
              "\n",
              "  for (const file of files) {\n",
              "    const li = document.createElement('li');\n",
              "    li.append(span(file.name, {fontWeight: 'bold'}));\n",
              "    li.append(span(\n",
              "        `(${file.type || 'n/a'}) - ${file.size} bytes, ` +\n",
              "        `last modified: ${\n",
              "            file.lastModifiedDate ? file.lastModifiedDate.toLocaleDateString() :\n",
              "                                    'n/a'} - `));\n",
              "    const percent = span('0% done');\n",
              "    li.appendChild(percent);\n",
              "\n",
              "    outputElement.appendChild(li);\n",
              "\n",
              "    const fileDataPromise = new Promise((resolve) => {\n",
              "      const reader = new FileReader();\n",
              "      reader.onload = (e) => {\n",
              "        resolve(e.target.result);\n",
              "      };\n",
              "      reader.readAsArrayBuffer(file);\n",
              "    });\n",
              "    // Wait for the data to be ready.\n",
              "    let fileData = yield {\n",
              "      promise: fileDataPromise,\n",
              "      response: {\n",
              "        action: 'continue',\n",
              "      }\n",
              "    };\n",
              "\n",
              "    // Use a chunked sending to avoid message size limits. See b/62115660.\n",
              "    let position = 0;\n",
              "    do {\n",
              "      const length = Math.min(fileData.byteLength - position, MAX_PAYLOAD_SIZE);\n",
              "      const chunk = new Uint8Array(fileData, position, length);\n",
              "      position += length;\n",
              "\n",
              "      const base64 = btoa(String.fromCharCode.apply(null, chunk));\n",
              "      yield {\n",
              "        response: {\n",
              "          action: 'append',\n",
              "          file: file.name,\n",
              "          data: base64,\n",
              "        },\n",
              "      };\n",
              "\n",
              "      let percentDone = fileData.byteLength === 0 ?\n",
              "          100 :\n",
              "          Math.round((position / fileData.byteLength) * 100);\n",
              "      percent.textContent = `${percentDone}% done`;\n",
              "\n",
              "    } while (position < fileData.byteLength);\n",
              "  }\n",
              "\n",
              "  // All done.\n",
              "  yield {\n",
              "    response: {\n",
              "      action: 'complete',\n",
              "    }\n",
              "  };\n",
              "}\n",
              "\n",
              "scope.google = scope.google || {};\n",
              "scope.google.colab = scope.google.colab || {};\n",
              "scope.google.colab._files = {\n",
              "  _uploadFiles,\n",
              "  _uploadFilesContinue,\n",
              "};\n",
              "})(self);\n",
              "</script> "
            ]
          },
          "metadata": {}
        },
        {
          "output_type": "stream",
          "name": "stdout",
          "text": [
            "Saving pagerank_bigdata.txt to pagerank_bigdata (5).txt\n"
          ]
        },
        {
          "output_type": "execute_result",
          "data": {
            "text/plain": [
              "{'pagerank_bigdata (5).txt': b'n1 n2 n4\\r\\nn2 n3 n5 n6\\r\\nn3 n4 n7\\r\\nn4 n5\\r\\nn5 n1 n2 n3\\r\\nn6\\r\\nn7'}"
            ]
          },
          "metadata": {},
          "execution_count": 2
        }
      ]
    },
    {
      "cell_type": "code",
      "source": [
        "sc = SparkContext.getOrCreate()\n",
        "rdd0 = sc.textFile(\"pagerank_bigdata.txt\")\n",
        "print(rdd0.collect())\n",
        "def parseLinks(line):\n",
        "  linelist = [x for x in line.split(\" \")]\n",
        "  return (linelist[0], linelist[1:])"
      ],
      "metadata": {
        "colab": {
          "base_uri": "https://localhost:8080/"
        },
        "id": "F2xlBafqsS1r",
        "outputId": "6e1a703b-9ebd-496d-9a4b-62cecc7fcdea"
      },
      "execution_count": null,
      "outputs": [
        {
          "output_type": "stream",
          "name": "stdout",
          "text": [
            "['n1 n2 n4', 'n2 n3 n5 n6', 'n3 n4 n7', 'n4 n5', 'n5 n1 n2 n3', 'n6', 'n7']\n"
          ]
        }
      ]
    },
    {
      "cell_type": "code",
      "source": [
        "rdd1 = rdd0.map(lambda line : parseLinks(line))\n",
        "partitionedrdd = rdd1.partitionBy(3, lambda key: hash(key))\n",
        "print(rdd1.collect())"
      ],
      "metadata": {
        "colab": {
          "base_uri": "https://localhost:8080/"
        },
        "id": "g4gq1-yXt7bX",
        "outputId": "0c80be18-23cf-495f-952c-74ff51b15c49"
      },
      "execution_count": null,
      "outputs": [
        {
          "output_type": "stream",
          "name": "stdout",
          "text": [
            "[('n1', ['n2', 'n4']), ('n2', ['n3', 'n5', 'n6']), ('n3', ['n4', 'n7']), ('n4', ['n5']), ('n5', ['n1', 'n2', 'n3']), ('n6', []), ('n7', [])]\n"
          ]
        }
      ]
    },
    {
      "cell_type": "code",
      "source": [
        "alpha=0.75\n",
        "N=rdd1.count()\n",
        "initialpagerank=1.0/N\n",
        "delta=0\n",
        "threshold = 0.0001\n",
        "pagerankrdd = rdd1.map(lambda line : (line[0], initialpagerank))\n",
        "print(pagerankrdd.collect())"
      ],
      "metadata": {
        "colab": {
          "base_uri": "https://localhost:8080/"
        },
        "id": "4-8CrT_auB6l",
        "outputId": "be35069f-6796-4290-a017-dd7f0b393ac2"
      },
      "execution_count": null,
      "outputs": [
        {
          "output_type": "stream",
          "name": "stdout",
          "text": [
            "[('n1', 0.14285714285714285), ('n2', 0.14285714285714285), ('n3', 0.14285714285714285), ('n4', 0.14285714285714285), ('n5', 0.14285714285714285), ('n6', 0.14285714285714285), ('n7', 0.14285714285714285)]\n"
          ]
        }
      ]
    },
    {
      "cell_type": "code",
      "source": [
        "def evalpagerank(line,deltaval):\n",
        "  initialpagerank= (alpha/N) + (deltaval/N + line[1])*(1 - alpha)\n",
        "  return ((line[0], initialpagerank))\n",
        "\n",
        "\n",
        "def findpagerank(node):\n",
        "    returnlist = []\n",
        "    parent_node, parent_node_rank_value, child_node_list = node[0], node[1][0], node[1][1]\n",
        "    no_of_child_nodes = len(child_node_list)\n",
        "    for child_node in child_node_list:\n",
        "        child_rank_value = parent_node_rank_value / no_of_child_nodes\n",
        "        returnlist.append((child_node, child_rank_value))\n",
        "    return returnlist"
      ],
      "metadata": {
        "id": "s3I78JmIuEF1"
      },
      "execution_count": null,
      "outputs": []
    },
    {
      "cell_type": "code",
      "source": [
        "from operator import add, sub\n",
        "def calculate_abs_diff(line):\n",
        "    return line\n",
        "\n",
        "def filter_above_threshold(line):\n",
        "    return abs(line[1]) > threshold\n",
        "\n",
        "def isconvergent(prevrdd, newrdd):\n",
        "    global threshold\n",
        "    abs_diff = (prevrdd.union(newrdd)).map(calculate_abs_diff).reduceByKey(sub)\n",
        "    abovethreshold = abs_diff.filter(filter_above_threshold)\n",
        "    if abovethreshold.count() < 1:\n",
        "        return abs_diff, 1\n",
        "    else:\n",
        "        return abs_diff, 0"
      ],
      "metadata": {
        "id": "NwyMByDsuIH6"
      },
      "execution_count": null,
      "outputs": []
    },
    {
      "cell_type": "code",
      "source": [
        "'''\n",
        "Dangle node section\n",
        "'''\n",
        "def checkdelta(line):\n",
        "  if (len(line[1][1])==0):\n",
        "    return line[1][0]\n",
        "  else:\n",
        "    return 0"
      ],
      "metadata": {
        "id": "D6cv1BnvuJ8N"
      },
      "execution_count": null,
      "outputs": []
    },
    {
      "cell_type": "code",
      "source": [
        "i=1\n",
        "while (i<25):\n",
        "  print(\"\\nPage Ranks in\",i,\"th iteration: \",pagerankrdd.collect())\n",
        "  mergedrdd = pagerankrdd.join(partitionedrdd)\n",
        "  newdelta = mergedrdd.map(lambda line: checkdelta(line)).reduce(add)\n",
        "  print(\"New Delta:\",newdelta)\n",
        "  rankvaluesofrdd = mergedrdd.flatMap(lambda line: findpagerank(line)).reduceByKey(add)\n",
        "  oldranks = pagerankrdd\n",
        "  pagerankrdd = rankvaluesofrdd.map(lambda line: evalpagerank(line,delta))\n",
        "  abslist, convergence = isconvergent(oldranks, pagerankrdd)\n",
        "  print(\"Absolute difference:\",abslist.collect())\n",
        "  if convergence:\n",
        "    break\n",
        "  i=i+1"
      ],
      "metadata": {
        "colab": {
          "base_uri": "https://localhost:8080/"
        },
        "id": "i3XDJ-ucuLrb",
        "outputId": "a70b5dd2-a81d-463e-92f5-6e99a89b2e74"
      },
      "execution_count": null,
      "outputs": [
        {
          "output_type": "stream",
          "name": "stdout",
          "text": [
            "\n",
            "Page Ranks in 1 th iteration:  [('n1', 0.14285714285714285), ('n2', 0.14285714285714285), ('n3', 0.14285714285714285), ('n4', 0.14285714285714285), ('n5', 0.14285714285714285), ('n6', 0.14285714285714285), ('n7', 0.14285714285714285)]\n",
            "New Delta: 0.2857142857142857\n",
            "Absolute difference: [('n1', 0.023809523809523808), ('n3', 0.011904761904761918), ('n4', 0.0), ('n5', -0.011904761904761918), ('n7', 0.01785714285714285), ('n6', 0.023809523809523808), ('n2', 0.005952380952380959)]\n",
            "\n",
            "Page Ranks in 2 th iteration:  [('n6', 0.11904761904761904), ('n1', 0.11904761904761904), ('n3', 0.13095238095238093), ('n4', 0.14285714285714285), ('n7', 0.125), ('n5', 0.15476190476190477), ('n2', 0.1369047619047619)]\n",
            "New Delta: 0.24404761904761904\n",
            "Absolute difference: [('n5', 0.0004960317460317443), ('n7', 0.0014880952380952467), ('n2', 0.001984126984126977), ('n6', 0.0004960317460317443), ('n1', -0.0009920634920634885), ('n3', -0.000496031746031772), ('n4', 0.004464285714285726)]\n",
            "\n",
            "Page Ranks in 3 th iteration:  [('n1', 0.12003968253968253), ('n6', 0.1185515873015873), ('n7', 0.12351190476190475), ('n3', 0.1314484126984127), ('n5', 0.15426587301587302), ('n4', 0.13839285714285712), ('n2', 0.1349206349206349)]\n",
            "New Delta: 0.24206349206349204\n",
            "Absolute difference: [('n5', 0.0012814153439153486), ('n1', 4.133597883597406e-05), ('n2', -8.267195767194813e-05), ('n6', 0.000165343915343924), ('n3', 0.00020667989417991195), ('n7', -6.200396825396803e-05), ('n4', -0.00018601190476191798)]\n",
            "\n",
            "Page Ranks in 4 th iteration:  [('n4', 0.13857886904761904), ('n3', 0.1312417328042328), ('n6', 0.11838624338624337), ('n2', 0.13500330687830686), ('n7', 0.12357390873015872), ('n1', 0.11999834656084656), ('n5', 0.15298445767195767)]\n",
            "New Delta: 0.2419601521164021\n",
            "Absolute difference: [('n3', 9.989528218695698e-05), ('n1', 0.00010678461199294109), ('n4', 3.100198412697708e-05), ('n7', 2.5834986772485524e-05), ('n5', -5.339230599646361e-05), ('n6', -6.88932980599799e-06), ('n2', 0.00011195160934743265)]\n",
            "\n",
            "Page Ranks in 5 th iteration:  [('n3', 0.13114183752204583), ('n4', 0.13854786706349206), ('n5', 0.15303784997795414), ('n7', 0.12354807374338624), ('n2', 0.13489135526895943), ('n1', 0.11989156194885361), ('n6', 0.11839313271604937)]\n",
            "New Delta: 0.24194120645943562\n",
            "Absolute difference: [('n2', 8.898717666072642e-06), ('n1', -4.449358833036321e-06), ('n5', 1.707979681070393e-05), ('n6', 9.329300778945782e-06), ('n3', 4.879941945895583e-06), ('n7', 1.2486910273376561e-05), ('n4', 2.5834986772499402e-05)]\n"
          ]
        }
      ]
    },
    {
      "cell_type": "code",
      "source": [
        "sortedrdd = pagerankrdd.sortBy(lambda x:x[1])\n",
        "print(\"Final page ranks:\",sortedrdd.collect())\n",
        "print(\"Is Convergence found?\",convergence)"
      ],
      "metadata": {
        "colab": {
          "base_uri": "https://localhost:8080/"
        },
        "id": "1oDKpzUCuPRP",
        "outputId": "281469c5-cd34-44f1-b836-24074779f419"
      },
      "execution_count": null,
      "outputs": [
        {
          "output_type": "stream",
          "name": "stdout",
          "text": [
            "Final page ranks: [('n6', 0.11838380341527042), ('n1', 0.11989601130768665), ('n7', 0.12353558683311286), ('n3', 0.13113695758009994), ('n2', 0.13488245655129336), ('n4', 0.13852203207671956), ('n5', 0.15302077018114343)]\n",
            "Is Convergence found? 1\n"
          ]
        }
      ]
    }
  ]
}